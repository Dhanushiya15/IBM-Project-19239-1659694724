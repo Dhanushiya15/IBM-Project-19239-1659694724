{
  "nbformat": 4,
  "nbformat_minor": 0,
  "metadata": {
    "colab": {
      "provenance": [],
      "collapsed_sections": []
    },
    "kernelspec": {
      "name": "python3",
      "display_name": "Python 3"
    },
    "language_info": {
      "name": "python"
    }
  },
  "cells": [
    {
      "cell_type": "code",
      "execution_count": null,
      "metadata": {
        "id": "8dD9G1t0gr-u"
      },
      "outputs": [],
      "source": []
    },
    {
      "cell_type": "markdown",
      "source": [
        "## **Database creation - Sprint 3**"
      ],
      "metadata": {
        "id": "5fUVKReRhK2k"
      }
    },
    {
      "cell_type": "code",
      "source": [
        "import sqlite3"
      ],
      "metadata": {
        "id": "0kV5He6phnhz"
      },
      "execution_count": 1,
      "outputs": []
    },
    {
      "cell_type": "code",
      "source": [
        "conn = sqlite3.connect(\"species.db\")\n",
        "conn.execute('''CREATE TABLE SPECIES(ID INTEGER NOT NULL,SPECIES TEXT NOT NULL, GENUS TEXT NOT NULL);''')"
      ],
      "metadata": {
        "colab": {
          "base_uri": "https://localhost:8080/"
        },
        "id": "GVNAnuuihxEk",
        "outputId": "13644941-e6af-4fac-ba40-30cfea2b82f7"
      },
      "execution_count": 2,
      "outputs": [
        {
          "output_type": "execute_result",
          "data": {
            "text/plain": [
              "<sqlite3.Cursor at 0x7f377a139ce0>"
            ]
          },
          "metadata": {},
          "execution_count": 2
        }
      ]
    },
    {
      "cell_type": "markdown",
      "source": [
        "# **Pushing all the data into DB**"
      ],
      "metadata": {
        "id": "jyJGgO19h2fd"
      }
    },
    {
      "cell_type": "code",
      "source": [
        "animals = ['Pangolin Mammal', 'Senenca White Deer Mammal', 'antelope', 'badger', 'bear', 'bison',\n",
        " 'boar', 'cat', 'chimpanzee', 'cow', 'coyote', 'deer', 'dog', 'donkey',\n",
        " 'elephant', 'fox', 'goat', 'gorilla', 'hamster', 'hare', 'hedgehog', 'hippopotamus', 'horse', 'hyena',\n",
        " 'kangaroo', 'koala', 'leopard', 'lion', 'lizard', 'mouse', 'okapi', 'orangutan',\n",
        " 'otter', 'ox', 'panda', 'pig', 'porcupine', 'possum', 'raccoon', 'rat', 'reindeer', 'rhinoceros',\n",
        " 'sheep', 'snake', 'squirrel', 'tiger', 'wolf', 'wombat', 'zebra']\n",
        "\n",
        "for i in range(len(animals)):\n",
        "    conn.execute(f'''INSERT INTO SPECIES VALUES('{i}','Animals',\"{animals[i]}\")''')\n",
        "conn.commit()"
      ],
      "metadata": {
        "id": "16Y8hf5ph6s_"
      },
      "execution_count": 3,
      "outputs": []
    },
    {
      "cell_type": "code",
      "source": [
        "birds = ['Great Indian Bustard Bird', 'Spoon Billed Sandpiper Bird', 'bat', 'crow',\n",
        " 'duck', 'eagle', 'flamingo', 'goose', 'hornbill', 'hummingbird',\n",
        " 'owl', 'parrot', 'pelecaniformes', 'penguin', 'pigeon', 'sandpiper', 'sparrow',\n",
        " 'swan', 'turkey', 'woodpecker']\n",
        "\n",
        "for i in range(len(birds)):\n",
        "    conn.execute(f'''INSERT INTO SPECIES VALUES('{i}','Birds',\"{birds[i]}\")''')\n",
        "conn.commit()"
      ],
      "metadata": {
        "id": "MoXy7iDWiDIG"
      },
      "execution_count": 4,
      "outputs": []
    },
    {
      "cell_type": "code",
      "source": [
        "flowers = ['Bluebell', 'Buttercup', 'Coltsfoot', 'Corpse Flower', 'Cowslip', 'Crocus', 'Daffodil',\n",
        " 'Fritillary', 'Iris', 'Lady Slipper Orchid Flower', 'Lily Valley', 'Pansy', 'Snowdrop',\n",
        " 'Tigerlily', 'Windflower', 'daisy', 'dandelion', 'rose', 'sunflower', 'tulip']\n",
        "\n",
        "for i in range(len(flowers)):\n",
        "    conn.execute(f'''INSERT INTO SPECIES VALUES('{i}','Flowers',\"{flowers[i]}\")''')\n",
        "conn.commit()"
      ],
      "metadata": {
        "id": "O6ESjlHPiJHG"
      },
      "execution_count": 5,
      "outputs": []
    },
    {
      "cell_type": "code",
      "source": [
        "insects = ['bee', 'beetle', 'butterfly', 'caterpillar', 'cockroach',\n",
        " 'dragonfly', 'fly', 'grasshopper', 'ladybugs', 'mosquito', 'moth']\n",
        "\n",
        "for i in range(len(insects)):\n",
        "    conn.execute(f'''INSERT INTO SPECIES VALUES('{i}','Insects',\"{insects[i]}\")''')\n",
        "conn.commit()"
      ],
      "metadata": {
        "id": "FNGe1-ZNiN07"
      },
      "execution_count": 6,
      "outputs": []
    },
    {
      "cell_type": "code",
      "source": [
        "leaves = ['Apple Leaf', 'Arrowhead Leaf', 'Bamboo Leaf', 'Banana Leaf', 'Currant Leaf', 'Curry Leaf',\n",
        " 'Duckpotato Leaf', 'Fig Leaf', 'Gooseberry Leaf', 'Guava Leaf', 'Lemon Leaf', 'Mango Leaf',\n",
        " 'Mulberry Leaf', 'Papaya Leaf', 'Pine Leaf', 'Raddish Leaf', 'Raspberry Leaf',\n",
        " 'Rose Leaf', 'Tangerine Leaf', 'Tomato Leaf', 'WaterOak Leaf']\n",
        "\n",
        "for i in range(len(leaves)):\n",
        "    conn.execute(f'''INSERT INTO SPECIES VALUES('{i}','Leaves',\"{leaves[i]}\")''')\n",
        "conn.commit()"
      ],
      "metadata": {
        "id": "TSZcdlT1iRxp"
      },
      "execution_count": 7,
      "outputs": []
    },
    {
      "cell_type": "code",
      "source": [
        "sea = ['Corals', 'Crabs', 'Dolphin', 'Eel', 'Jelly Fish', 'Lobster', 'Nudibranchs', 'Octopus', 'Penguin',\n",
        " 'Puffers', 'Sea Rays', 'Sea Urchins', 'Seahorse', 'Seal', 'Sharks', 'Squid',\n",
        " 'Starfish', 'Turtle_Tortoise', 'Whale', 'goldfish', 'oyster']\n",
        "\n",
        "for i in range(len(sea)):\n",
        "    conn.execute(f'''INSERT INTO SPECIES VALUES('{i}','Sea Animals',\"{sea[i]}\")''')\n",
        "conn.commit()"
      ],
      "metadata": {
        "id": "GmlZZNqLiWlB"
      },
      "execution_count": 8,
      "outputs": []
    },
    {
      "cell_type": "markdown",
      "source": [
        "# **Testing the Database**"
      ],
      "metadata": {
        "id": "HsW7J68Aiart"
      }
    },
    {
      "cell_type": "code",
      "source": [
        "id1 = 12\n",
        "species = \"Sea Animals\"\n",
        "cursor = conn.execute(f'''SELECT GENUS FROM SPECIES WHERE SPECIES==\"{species}\" AND ID==\"{id1}\"''')\n",
        "send = cursor.fetchall()[0][0]\n",
        "print(send)"
      ],
      "metadata": {
        "colab": {
          "base_uri": "https://localhost:8080/"
        },
        "id": "ubd1q7zSil49",
        "outputId": "ee542bf4-a7fc-418e-e406-085baa0fd41c"
      },
      "execution_count": 9,
      "outputs": [
        {
          "output_type": "stream",
          "name": "stdout",
          "text": [
            "Seahorse\n"
          ]
        }
      ]
    }
  ]
}